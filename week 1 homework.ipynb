{
 "cells": [
  {
   "cell_type": "code",
   "execution_count": 1,
   "id": "b3ec2662",
   "metadata": {},
   "outputs": [
    {
     "name": "stdout",
     "output_type": "stream",
     "text": [
      "palmsland\n",
      "5\n"
     ]
    }
   ],
   "source": [
    "#print\n",
    "company = 'palmsland'\n",
    "noemp = 5\n",
    "print(company)\n",
    "print(noemp)\n",
    "\n"
   ]
  },
  {
   "cell_type": "code",
   "execution_count": 35,
   "id": "b01cb714",
   "metadata": {},
   "outputs": [
    {
     "data": {
      "text/plain": [
       "list"
      ]
     },
     "execution_count": 35,
     "metadata": {},
     "output_type": "execute_result"
    }
   ],
   "source": [
    "#creat list\n",
    "list_string = ['Ahmed','Roula','Turki','Naser']\n",
    "type(list_string)\n",
    "\n",
    "\n"
   ]
  },
  {
   "cell_type": "code",
   "execution_count": 3,
   "id": "ca78aba9",
   "metadata": {},
   "outputs": [
    {
     "data": {
      "text/plain": [
       "'Ahmed'"
      ]
     },
     "execution_count": 3,
     "metadata": {},
     "output_type": "execute_result"
    }
   ],
   "source": [
    "list_string[0]"
   ]
  },
  {
   "cell_type": "code",
   "execution_count": 4,
   "id": "99eda509",
   "metadata": {},
   "outputs": [
    {
     "data": {
      "text/plain": [
       "'Naser'"
      ]
     },
     "execution_count": 4,
     "metadata": {},
     "output_type": "execute_result"
    }
   ],
   "source": [
    "list_string[3]"
   ]
  },
  {
   "cell_type": "code",
   "execution_count": 5,
   "id": "e82fd518",
   "metadata": {},
   "outputs": [
    {
     "data": {
      "text/plain": [
       "['Ahmed', 'Roula']"
      ]
     },
     "execution_count": 5,
     "metadata": {},
     "output_type": "execute_result"
    }
   ],
   "source": [
    "list_string[0:2]"
   ]
  },
  {
   "cell_type": "code",
   "execution_count": 36,
   "id": "9ef8248f",
   "metadata": {},
   "outputs": [
    {
     "name": "stdout",
     "output_type": "stream",
     "text": [
      "['Ahmed', 'Roula', 'Turki', 'Naser', 'Nesreen']\n"
     ]
    }
   ],
   "source": [
    "#add to the list\n",
    "list_string.append('Nesreen')\n",
    "print(list_string)"
   ]
  },
  {
   "cell_type": "code",
   "execution_count": 7,
   "id": "e9077cb6",
   "metadata": {},
   "outputs": [
    {
     "name": "stdout",
     "output_type": "stream",
     "text": [
      "['Ahmed', 'Roula', 'Naser', 'Nesreen']\n"
     ]
    }
   ],
   "source": [
    "#remobe from the list\n",
    "list_string.remove('Turki')\n",
    "print(list_string)"
   ]
  },
  {
   "cell_type": "code",
   "execution_count": 8,
   "id": "b4483704",
   "metadata": {},
   "outputs": [
    {
     "name": "stdout",
     "output_type": "stream",
     "text": [
      "['Nesreen', 'Naser', 'Roula', 'Ahmed']\n"
     ]
    }
   ],
   "source": [
    "#reverse the list\n",
    "list_string.reverse()\n",
    "print(list_string)"
   ]
  },
  {
   "cell_type": "code",
   "execution_count": 9,
   "id": "3ace1602",
   "metadata": {},
   "outputs": [
    {
     "name": "stdout",
     "output_type": "stream",
     "text": [
      "['Ahmed', 'Naser', 'Nesreen', 'Roula']\n"
     ]
    }
   ],
   "source": [
    "#sort the list\n",
    "list_string.sort()\n",
    "print(list_string)"
   ]
  },
  {
   "cell_type": "code",
   "execution_count": 10,
   "id": "d0a5f5b0",
   "metadata": {},
   "outputs": [
    {
     "name": "stdout",
     "output_type": "stream",
     "text": [
      "0\n",
      "2\n",
      "4\n",
      "6\n"
     ]
    }
   ],
   "source": [
    "#example for loop\n",
    "for y in range(0,8,2):\n",
    "   print(y)"
   ]
  },
  {
   "cell_type": "code",
   "execution_count": 11,
   "id": "3d02580d",
   "metadata": {},
   "outputs": [
    {
     "name": "stdout",
     "output_type": "stream",
     "text": [
      "4\n"
     ]
    }
   ],
   "source": [
    "#lenght of list\n",
    "size = len(list_string)"
   ]
  },
  {
   "cell_type": "code",
   "execution_count": 24,
   "id": "ef774d90",
   "metadata": {},
   "outputs": [
    {
     "name": "stdout",
     "output_type": "stream",
     "text": [
      "Ahmed working in palmsland\n",
      "\n",
      "Naser working in palmsland\n",
      "\n",
      "Nesreen working in palmsland\n",
      "\n",
      "Roula working in palmsland\n",
      "\n"
     ]
    }
   ],
   "source": [
    "# print the elements of the list all\n",
    "for name in range(len(list_string)):\n",
    "    print (\"{} working in {}\".format(list_string[name],company)+\"\\n\")"
   ]
  },
  {
   "cell_type": "code",
   "execution_count": 25,
   "id": "48b1c7d1",
   "metadata": {},
   "outputs": [
    {
     "name": "stdout",
     "output_type": "stream",
     "text": [
      "3723\n"
     ]
    }
   ],
   "source": [
    "# example for function\n",
    "def print_seconds(hours, minutes, seconds):\n",
    "    print(hours*3600+minutes*60+seconds)\n",
    "\n",
    "\n",
    "print_seconds(1,2,3)"
   ]
  },
  {
   "cell_type": "code",
   "execution_count": 27,
   "id": "bd53798b",
   "metadata": {},
   "outputs": [
    {
     "name": "stdout",
     "output_type": "stream",
     "text": [
      "The distance in kilometers is 88.0\n",
      "The round-trip in kilometers is 176.0\n"
     ]
    }
   ],
   "source": [
    "# another example for function\n",
    "def convert_distance(miles):\n",
    "  km = miles * 1.6  \n",
    "  return km\n",
    "\n",
    "my_trip_miles = 55\n",
    "\n",
    "my_trip_km = convert_distance(my_trip_miles)\n",
    "\n",
    "\n",
    "print(\"The distance in kilometers is \" + str(my_trip_km))\n",
    "\n",
    "print(\"The round-trip in kilometers is \" + str(my_trip_km*2))"
   ]
  },
  {
   "cell_type": "code",
   "execution_count": 30,
   "id": "ff9e75cc",
   "metadata": {},
   "outputs": [
    {
     "name": "stdout",
     "output_type": "stream",
     "text": [
      "['porsche', 'lamborghini', 'bugatti']\n",
      "['Hunday', 'Hunda', 'Fiat']\n",
      "['mercedes', 'rolls royce ']\n"
     ]
    }
   ],
   "source": [
    "#example for dictionary\n",
    "cars_dictionary = {\"sport\": [\"porsche\", \"lamborghini\", \"bugatti\"], \"economy\": [\"Hunday\", \"Hunda\", \"Fiat\"], \"class\": [\"mercedes\", \"rolls royce \"]}  \n",
    "\n",
    "\n",
    "print(cars_dictionary.get(\"sport\", 0))\n",
    "print(cars_dictionary.get(\"economy\", 0))\n",
    "print(cars_dictionary.get(\"class\", 0))"
   ]
  },
  {
   "cell_type": "code",
   "execution_count": 31,
   "id": "e62d91a1",
   "metadata": {},
   "outputs": [
    {
     "data": {
      "text/plain": [
       "dict_keys(['sport', 'economy', 'class'])"
      ]
     },
     "execution_count": 31,
     "metadata": {},
     "output_type": "execute_result"
    }
   ],
   "source": [
    "#print the keys of the dic\n",
    "cars_dictionary.keys()"
   ]
  },
  {
   "cell_type": "code",
   "execution_count": 32,
   "id": "00eddbb5",
   "metadata": {},
   "outputs": [
    {
     "data": {
      "text/plain": [
       "dict_values([['porsche', 'lamborghini', 'bugatti'], ['Hunday', 'Hunda', 'Fiat'], ['mercedes', 'rolls royce ']])"
      ]
     },
     "execution_count": 32,
     "metadata": {},
     "output_type": "execute_result"
    }
   ],
   "source": [
    "#print the vaues of dic\n",
    "cars_dictionary.values()"
   ]
  },
  {
   "cell_type": "code",
   "execution_count": 34,
   "id": "e47de35a",
   "metadata": {},
   "outputs": [
    {
     "name": "stdout",
     "output_type": "stream",
     "text": [
      "SUV is not exist\n"
     ]
    }
   ],
   "source": [
    "#checking a key in the dic\n",
    "keys = cars_dictionary.keys()\n",
    "newkey = 'SUV'\n",
    "if newkey in keys:\n",
    "    print('{} is exist'.format(newkey))\n",
    "else:\n",
    "    print('{} is not exist'.format(newkey))"
   ]
  },
  {
   "cell_type": "code",
   "execution_count": null,
   "id": "fb1edbf5",
   "metadata": {},
   "outputs": [],
   "source": []
  }
 ],
 "metadata": {
  "kernelspec": {
   "display_name": "Python 3 (ipykernel)",
   "language": "python",
   "name": "python3"
  },
  "language_info": {
   "codemirror_mode": {
    "name": "ipython",
    "version": 3
   },
   "file_extension": ".py",
   "mimetype": "text/x-python",
   "name": "python",
   "nbconvert_exporter": "python",
   "pygments_lexer": "ipython3",
   "version": "3.9.13"
  }
 },
 "nbformat": 4,
 "nbformat_minor": 5
}
